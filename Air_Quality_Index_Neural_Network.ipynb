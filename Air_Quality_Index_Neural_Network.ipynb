{
  "nbformat": 4,
  "nbformat_minor": 0,
  "metadata": {
    "colab": {
      "name": "Air_Quality_Index_Neural_Network.ipynb",
      "provenance": [],
      "authorship_tag": "ABX9TyNaTXlJwUSaPiIl1klCEe/1",
      "include_colab_link": true
    },
    "kernelspec": {
      "name": "python3",
      "display_name": "Python 3"
    }
  },
  "cells": [
    {
      "cell_type": "markdown",
      "metadata": {
        "id": "view-in-github",
        "colab_type": "text"
      },
      "source": [
        "<a href=\"https://colab.research.google.com/github/bdafahim/AI_Assignment/blob/main/Air_Quality_Index_Neural_Network.ipynb\" target=\"_parent\"><img src=\"https://colab.research.google.com/assets/colab-badge.svg\" alt=\"Open In Colab\"/></a>"
      ]
    },
    {
      "cell_type": "code",
      "metadata": {
        "id": "w_fvVR46NMe-"
      },
      "source": [
        "import matplotlib.pyplot as plt\r\n",
        "import numpy as np\r\n",
        "import pandas as pd\r\n",
        "%matplotlib inline"
      ],
      "execution_count": 1,
      "outputs": []
    },
    {
      "cell_type": "code",
      "metadata": {
        "colab": {
          "base_uri": "https://localhost:8080/",
          "height": 197
        },
        "id": "yGs9FzBIOprY",
        "outputId": "75fdaf3f-9587-4da4-8ab9-bf84d8f1d481"
      },
      "source": [
        "url = 'https://raw.githubusercontent.com/bdafahim/AI_Assignment/main/Air_Quality_Index/AirQualityUCI.xlsx'\r\n",
        "dataset = pd.read_excel(url)\r\n",
        "dataset.head()"
      ],
      "execution_count": 2,
      "outputs": [
        {
          "output_type": "execute_result",
          "data": {
            "text/html": [
              "<div>\n",
              "<style scoped>\n",
              "    .dataframe tbody tr th:only-of-type {\n",
              "        vertical-align: middle;\n",
              "    }\n",
              "\n",
              "    .dataframe tbody tr th {\n",
              "        vertical-align: top;\n",
              "    }\n",
              "\n",
              "    .dataframe thead th {\n",
              "        text-align: right;\n",
              "    }\n",
              "</style>\n",
              "<table border=\"1\" class=\"dataframe\">\n",
              "  <thead>\n",
              "    <tr style=\"text-align: right;\">\n",
              "      <th></th>\n",
              "      <th>Date</th>\n",
              "      <th>Time</th>\n",
              "      <th>CO(GT)</th>\n",
              "      <th>PT08.S1(CO)</th>\n",
              "      <th>NMHC(GT)</th>\n",
              "      <th>C6H6(GT)</th>\n",
              "      <th>PT08.S2(NMHC)</th>\n",
              "      <th>NOx(GT)</th>\n",
              "      <th>PT08.S3(NOx)</th>\n",
              "      <th>NO2(GT)</th>\n",
              "      <th>PT08.S4(NO2)</th>\n",
              "      <th>PT08.S5(O3)</th>\n",
              "      <th>T</th>\n",
              "      <th>RH</th>\n",
              "      <th>AH</th>\n",
              "    </tr>\n",
              "  </thead>\n",
              "  <tbody>\n",
              "    <tr>\n",
              "      <th>0</th>\n",
              "      <td>2004-03-10</td>\n",
              "      <td>18:00:00</td>\n",
              "      <td>2.6</td>\n",
              "      <td>1360.00</td>\n",
              "      <td>150</td>\n",
              "      <td>11.881723</td>\n",
              "      <td>1045.50</td>\n",
              "      <td>166.0</td>\n",
              "      <td>1056.25</td>\n",
              "      <td>113.0</td>\n",
              "      <td>1692.00</td>\n",
              "      <td>1267.50</td>\n",
              "      <td>13.60</td>\n",
              "      <td>48.875001</td>\n",
              "      <td>0.757754</td>\n",
              "    </tr>\n",
              "    <tr>\n",
              "      <th>1</th>\n",
              "      <td>2004-03-10</td>\n",
              "      <td>19:00:00</td>\n",
              "      <td>2.0</td>\n",
              "      <td>1292.25</td>\n",
              "      <td>112</td>\n",
              "      <td>9.397165</td>\n",
              "      <td>954.75</td>\n",
              "      <td>103.0</td>\n",
              "      <td>1173.75</td>\n",
              "      <td>92.0</td>\n",
              "      <td>1558.75</td>\n",
              "      <td>972.25</td>\n",
              "      <td>13.30</td>\n",
              "      <td>47.700000</td>\n",
              "      <td>0.725487</td>\n",
              "    </tr>\n",
              "    <tr>\n",
              "      <th>2</th>\n",
              "      <td>2004-03-10</td>\n",
              "      <td>20:00:00</td>\n",
              "      <td>2.2</td>\n",
              "      <td>1402.00</td>\n",
              "      <td>88</td>\n",
              "      <td>8.997817</td>\n",
              "      <td>939.25</td>\n",
              "      <td>131.0</td>\n",
              "      <td>1140.00</td>\n",
              "      <td>114.0</td>\n",
              "      <td>1554.50</td>\n",
              "      <td>1074.00</td>\n",
              "      <td>11.90</td>\n",
              "      <td>53.975000</td>\n",
              "      <td>0.750239</td>\n",
              "    </tr>\n",
              "    <tr>\n",
              "      <th>3</th>\n",
              "      <td>2004-03-10</td>\n",
              "      <td>21:00:00</td>\n",
              "      <td>2.2</td>\n",
              "      <td>1375.50</td>\n",
              "      <td>80</td>\n",
              "      <td>9.228796</td>\n",
              "      <td>948.25</td>\n",
              "      <td>172.0</td>\n",
              "      <td>1092.00</td>\n",
              "      <td>122.0</td>\n",
              "      <td>1583.75</td>\n",
              "      <td>1203.25</td>\n",
              "      <td>11.00</td>\n",
              "      <td>60.000000</td>\n",
              "      <td>0.786713</td>\n",
              "    </tr>\n",
              "    <tr>\n",
              "      <th>4</th>\n",
              "      <td>2004-03-10</td>\n",
              "      <td>22:00:00</td>\n",
              "      <td>1.6</td>\n",
              "      <td>1272.25</td>\n",
              "      <td>51</td>\n",
              "      <td>6.518224</td>\n",
              "      <td>835.50</td>\n",
              "      <td>131.0</td>\n",
              "      <td>1205.00</td>\n",
              "      <td>116.0</td>\n",
              "      <td>1490.00</td>\n",
              "      <td>1110.00</td>\n",
              "      <td>11.15</td>\n",
              "      <td>59.575001</td>\n",
              "      <td>0.788794</td>\n",
              "    </tr>\n",
              "  </tbody>\n",
              "</table>\n",
              "</div>"
            ],
            "text/plain": [
              "        Date      Time  CO(GT)  ...      T         RH        AH\n",
              "0 2004-03-10  18:00:00     2.6  ...  13.60  48.875001  0.757754\n",
              "1 2004-03-10  19:00:00     2.0  ...  13.30  47.700000  0.725487\n",
              "2 2004-03-10  20:00:00     2.2  ...  11.90  53.975000  0.750239\n",
              "3 2004-03-10  21:00:00     2.2  ...  11.00  60.000000  0.786713\n",
              "4 2004-03-10  22:00:00     1.6  ...  11.15  59.575001  0.788794\n",
              "\n",
              "[5 rows x 15 columns]"
            ]
          },
          "metadata": {
            "tags": []
          },
          "execution_count": 2
        }
      ]
    },
    {
      "cell_type": "code",
      "metadata": {
        "colab": {
          "base_uri": "https://localhost:8080/",
          "height": 287
        },
        "id": "_15UWY5IQXwZ",
        "outputId": "10430678-5f99-4b88-a7f3-0a6f58f88f1c"
      },
      "source": [
        "dataset.describe()"
      ],
      "execution_count": 3,
      "outputs": [
        {
          "output_type": "execute_result",
          "data": {
            "text/html": [
              "<div>\n",
              "<style scoped>\n",
              "    .dataframe tbody tr th:only-of-type {\n",
              "        vertical-align: middle;\n",
              "    }\n",
              "\n",
              "    .dataframe tbody tr th {\n",
              "        vertical-align: top;\n",
              "    }\n",
              "\n",
              "    .dataframe thead th {\n",
              "        text-align: right;\n",
              "    }\n",
              "</style>\n",
              "<table border=\"1\" class=\"dataframe\">\n",
              "  <thead>\n",
              "    <tr style=\"text-align: right;\">\n",
              "      <th></th>\n",
              "      <th>CO(GT)</th>\n",
              "      <th>PT08.S1(CO)</th>\n",
              "      <th>NMHC(GT)</th>\n",
              "      <th>C6H6(GT)</th>\n",
              "      <th>PT08.S2(NMHC)</th>\n",
              "      <th>NOx(GT)</th>\n",
              "      <th>PT08.S3(NOx)</th>\n",
              "      <th>NO2(GT)</th>\n",
              "      <th>PT08.S4(NO2)</th>\n",
              "      <th>PT08.S5(O3)</th>\n",
              "      <th>T</th>\n",
              "      <th>RH</th>\n",
              "      <th>AH</th>\n",
              "    </tr>\n",
              "  </thead>\n",
              "  <tbody>\n",
              "    <tr>\n",
              "      <th>count</th>\n",
              "      <td>9357.000000</td>\n",
              "      <td>9357.000000</td>\n",
              "      <td>9357.000000</td>\n",
              "      <td>9357.000000</td>\n",
              "      <td>9357.000000</td>\n",
              "      <td>9357.000000</td>\n",
              "      <td>9357.000000</td>\n",
              "      <td>9357.000000</td>\n",
              "      <td>9357.000000</td>\n",
              "      <td>9357.000000</td>\n",
              "      <td>9357.000000</td>\n",
              "      <td>9357.000000</td>\n",
              "      <td>9357.000000</td>\n",
              "    </tr>\n",
              "    <tr>\n",
              "      <th>mean</th>\n",
              "      <td>-34.207524</td>\n",
              "      <td>1048.869652</td>\n",
              "      <td>-159.090093</td>\n",
              "      <td>1.865576</td>\n",
              "      <td>894.475963</td>\n",
              "      <td>168.604200</td>\n",
              "      <td>794.872333</td>\n",
              "      <td>58.135898</td>\n",
              "      <td>1391.363266</td>\n",
              "      <td>974.951534</td>\n",
              "      <td>9.776600</td>\n",
              "      <td>39.483611</td>\n",
              "      <td>-6.837604</td>\n",
              "    </tr>\n",
              "    <tr>\n",
              "      <th>std</th>\n",
              "      <td>77.657170</td>\n",
              "      <td>329.817015</td>\n",
              "      <td>139.789093</td>\n",
              "      <td>41.380154</td>\n",
              "      <td>342.315902</td>\n",
              "      <td>257.424561</td>\n",
              "      <td>321.977031</td>\n",
              "      <td>126.931428</td>\n",
              "      <td>467.192382</td>\n",
              "      <td>456.922728</td>\n",
              "      <td>43.203438</td>\n",
              "      <td>51.215645</td>\n",
              "      <td>38.976670</td>\n",
              "    </tr>\n",
              "    <tr>\n",
              "      <th>min</th>\n",
              "      <td>-200.000000</td>\n",
              "      <td>-200.000000</td>\n",
              "      <td>-200.000000</td>\n",
              "      <td>-200.000000</td>\n",
              "      <td>-200.000000</td>\n",
              "      <td>-200.000000</td>\n",
              "      <td>-200.000000</td>\n",
              "      <td>-200.000000</td>\n",
              "      <td>-200.000000</td>\n",
              "      <td>-200.000000</td>\n",
              "      <td>-200.000000</td>\n",
              "      <td>-200.000000</td>\n",
              "      <td>-200.000000</td>\n",
              "    </tr>\n",
              "    <tr>\n",
              "      <th>25%</th>\n",
              "      <td>0.600000</td>\n",
              "      <td>921.000000</td>\n",
              "      <td>-200.000000</td>\n",
              "      <td>4.004958</td>\n",
              "      <td>711.000000</td>\n",
              "      <td>50.000000</td>\n",
              "      <td>637.000000</td>\n",
              "      <td>53.000000</td>\n",
              "      <td>1184.750000</td>\n",
              "      <td>699.750000</td>\n",
              "      <td>10.950000</td>\n",
              "      <td>34.050000</td>\n",
              "      <td>0.692275</td>\n",
              "    </tr>\n",
              "    <tr>\n",
              "      <th>50%</th>\n",
              "      <td>1.500000</td>\n",
              "      <td>1052.500000</td>\n",
              "      <td>-200.000000</td>\n",
              "      <td>7.886653</td>\n",
              "      <td>894.500000</td>\n",
              "      <td>141.000000</td>\n",
              "      <td>794.250000</td>\n",
              "      <td>96.000000</td>\n",
              "      <td>1445.500000</td>\n",
              "      <td>942.000000</td>\n",
              "      <td>17.200000</td>\n",
              "      <td>48.550000</td>\n",
              "      <td>0.976823</td>\n",
              "    </tr>\n",
              "    <tr>\n",
              "      <th>75%</th>\n",
              "      <td>2.600000</td>\n",
              "      <td>1221.250000</td>\n",
              "      <td>-200.000000</td>\n",
              "      <td>13.636091</td>\n",
              "      <td>1104.750000</td>\n",
              "      <td>284.200000</td>\n",
              "      <td>960.250000</td>\n",
              "      <td>133.000000</td>\n",
              "      <td>1662.000000</td>\n",
              "      <td>1255.250000</td>\n",
              "      <td>24.075000</td>\n",
              "      <td>61.875000</td>\n",
              "      <td>1.296223</td>\n",
              "    </tr>\n",
              "    <tr>\n",
              "      <th>max</th>\n",
              "      <td>11.900000</td>\n",
              "      <td>2039.750000</td>\n",
              "      <td>1189.000000</td>\n",
              "      <td>63.741476</td>\n",
              "      <td>2214.000000</td>\n",
              "      <td>1479.000000</td>\n",
              "      <td>2682.750000</td>\n",
              "      <td>339.700000</td>\n",
              "      <td>2775.000000</td>\n",
              "      <td>2522.750000</td>\n",
              "      <td>44.600000</td>\n",
              "      <td>88.725000</td>\n",
              "      <td>2.231036</td>\n",
              "    </tr>\n",
              "  </tbody>\n",
              "</table>\n",
              "</div>"
            ],
            "text/plain": [
              "            CO(GT)  PT08.S1(CO)  ...           RH           AH\n",
              "count  9357.000000  9357.000000  ...  9357.000000  9357.000000\n",
              "mean    -34.207524  1048.869652  ...    39.483611    -6.837604\n",
              "std      77.657170   329.817015  ...    51.215645    38.976670\n",
              "min    -200.000000  -200.000000  ...  -200.000000  -200.000000\n",
              "25%       0.600000   921.000000  ...    34.050000     0.692275\n",
              "50%       1.500000  1052.500000  ...    48.550000     0.976823\n",
              "75%       2.600000  1221.250000  ...    61.875000     1.296223\n",
              "max      11.900000  2039.750000  ...    88.725000     2.231036\n",
              "\n",
              "[8 rows x 13 columns]"
            ]
          },
          "metadata": {
            "tags": []
          },
          "execution_count": 3
        }
      ]
    },
    {
      "cell_type": "code",
      "metadata": {
        "colab": {
          "base_uri": "https://localhost:8080/"
        },
        "id": "oU59-NiSQcQ-",
        "outputId": "6edf8fc4-64f8-4506-e8b8-a495f7194d38"
      },
      "source": [
        "dataset.columns"
      ],
      "execution_count": 4,
      "outputs": [
        {
          "output_type": "execute_result",
          "data": {
            "text/plain": [
              "Index(['Date', 'Time', 'CO(GT)', 'PT08.S1(CO)', 'NMHC(GT)', 'C6H6(GT)',\n",
              "       'PT08.S2(NMHC)', 'NOx(GT)', 'PT08.S3(NOx)', 'NO2(GT)', 'PT08.S4(NO2)',\n",
              "       'PT08.S5(O3)', 'T', 'RH', 'AH'],\n",
              "      dtype='object')"
            ]
          },
          "metadata": {
            "tags": []
          },
          "execution_count": 4
        }
      ]
    },
    {
      "cell_type": "code",
      "metadata": {
        "colab": {
          "base_uri": "https://localhost:8080/"
        },
        "id": "QZhWgp-XQIig",
        "outputId": "b959dcbf-2440-409a-83f7-ef8a2213ba93"
      },
      "source": [
        "dataset.shape"
      ],
      "execution_count": 5,
      "outputs": [
        {
          "output_type": "execute_result",
          "data": {
            "text/plain": [
              "(9357, 15)"
            ]
          },
          "metadata": {
            "tags": []
          },
          "execution_count": 5
        }
      ]
    },
    {
      "cell_type": "code",
      "metadata": {
        "colab": {
          "base_uri": "https://localhost:8080/",
          "height": 616
        },
        "id": "jpFuwtGVQSGB",
        "outputId": "49baee65-1a1f-43eb-8b95-6e0860d6d2ee"
      },
      "source": [
        "import seaborn as sns\r\n",
        "from sklearn.preprocessing import StandardScaler\r\n",
        "scalar = StandardScaler()\r\n",
        "sns.set(style='whitegrid', context='notebook')\r\n",
        "features_plot = ['C6H6(GT)', 'RH', 'AH', 'PT08.S1(CO)']\r\n",
        "\r\n",
        "data_to_plot = dataset[features_plot]\r\n",
        "data_to_plot = scalar.fit_transform(data_to_plot)\r\n",
        "data_to_plot = pd.DataFrame(data_to_plot)\r\n",
        "\r\n",
        "sns.pairplot(data_to_plot, size=2.0);\r\n",
        "plt.tight_layout()\r\n",
        "plt.show()"
      ],
      "execution_count": 6,
      "outputs": [
        {
          "output_type": "stream",
          "text": [
            "/usr/local/lib/python3.6/dist-packages/seaborn/axisgrid.py:1912: UserWarning: The `size` parameter has been renamed to `height`; please update your code.\n",
            "  warnings.warn(msg, UserWarning)\n"
          ],
          "name": "stderr"
        },
        {
          "output_type": "display_data",
          "data": {
            "image/png": "[encoded data removed]",
            "text/plain": [
              "<Figure size 576x576 with 20 Axes>"
            ]
          },
          "metadata": {
            "tags": []
          }
        }
      ]
    },
    {
      "cell_type": "code",
      "metadata": {
        "colab": {
          "base_uri": "https://localhost:8080/",
          "height": 406
        },
        "id": "4rLlfuqaStgX",
        "outputId": "4757ebf5-e86e-47ed-c29e-9e6bfbeb3f35"
      },
      "source": [
        "dataset.dropna(axis=0, how='all')"
      ],
      "execution_count": 7,
      "outputs": [
        {
          "output_type": "execute_result",
          "data": {
            "text/html": [
              "<div>\n",
              "<style scoped>\n",
              "    .dataframe tbody tr th:only-of-type {\n",
              "        vertical-align: middle;\n",
              "    }\n",
              "\n",
              "    .dataframe tbody tr th {\n",
              "        vertical-align: top;\n",
              "    }\n",
              "\n",
              "    .dataframe thead th {\n",
              "        text-align: right;\n",
              "    }\n",
              "</style>\n",
              "<table border=\"1\" class=\"dataframe\">\n",
              "  <thead>\n",
              "    <tr style=\"text-align: right;\">\n",
              "      <th></th>\n",
              "      <th>Date</th>\n",
              "      <th>Time</th>\n",
              "      <th>CO(GT)</th>\n",
              "      <th>PT08.S1(CO)</th>\n",
              "      <th>NMHC(GT)</th>\n",
              "      <th>C6H6(GT)</th>\n",
              "      <th>PT08.S2(NMHC)</th>\n",
              "      <th>NOx(GT)</th>\n",
              "      <th>PT08.S3(NOx)</th>\n",
              "      <th>NO2(GT)</th>\n",
              "      <th>PT08.S4(NO2)</th>\n",
              "      <th>PT08.S5(O3)</th>\n",
              "      <th>T</th>\n",
              "      <th>RH</th>\n",
              "      <th>AH</th>\n",
              "    </tr>\n",
              "  </thead>\n",
              "  <tbody>\n",
              "    <tr>\n",
              "      <th>0</th>\n",
              "      <td>2004-03-10</td>\n",
              "      <td>18:00:00</td>\n",
              "      <td>2.6</td>\n",
              "      <td>1360.00</td>\n",
              "      <td>150</td>\n",
              "      <td>11.881723</td>\n",
              "      <td>1045.50</td>\n",
              "      <td>166.0</td>\n",
              "      <td>1056.25</td>\n",
              "      <td>113.0</td>\n",
              "      <td>1692.00</td>\n",
              "      <td>1267.50</td>\n",
              "      <td>13.600</td>\n",
              "      <td>48.875001</td>\n",
              "      <td>0.757754</td>\n",
              "    </tr>\n",
              "    <tr>\n",
              "      <th>1</th>\n",
              "      <td>2004-03-10</td>\n",
              "      <td>19:00:00</td>\n",
              "      <td>2.0</td>\n",
              "      <td>1292.25</td>\n",
              "      <td>112</td>\n",
              "      <td>9.397165</td>\n",
              "      <td>954.75</td>\n",
              "      <td>103.0</td>\n",
              "      <td>1173.75</td>\n",
              "      <td>92.0</td>\n",
              "      <td>1558.75</td>\n",
              "      <td>972.25</td>\n",
              "      <td>13.300</td>\n",
              "      <td>47.700000</td>\n",
              "      <td>0.725487</td>\n",
              "    </tr>\n",
              "    <tr>\n",
              "      <th>2</th>\n",
              "      <td>2004-03-10</td>\n",
              "      <td>20:00:00</td>\n",
              "      <td>2.2</td>\n",
              "      <td>1402.00</td>\n",
              "      <td>88</td>\n",
              "      <td>8.997817</td>\n",
              "      <td>939.25</td>\n",
              "      <td>131.0</td>\n",
              "      <td>1140.00</td>\n",
              "      <td>114.0</td>\n",
              "      <td>1554.50</td>\n",
              "      <td>1074.00</td>\n",
              "      <td>11.900</td>\n",
              "      <td>53.975000</td>\n",
              "      <td>0.750239</td>\n",
              "    </tr>\n",
              "    <tr>\n",
              "      <th>3</th>\n",
              "      <td>2004-03-10</td>\n",
              "      <td>21:00:00</td>\n",
              "      <td>2.2</td>\n",
              "      <td>1375.50</td>\n",
              "      <td>80</td>\n",
              "      <td>9.228796</td>\n",
              "      <td>948.25</td>\n",
              "      <td>172.0</td>\n",
              "      <td>1092.00</td>\n",
              "      <td>122.0</td>\n",
              "      <td>1583.75</td>\n",
              "      <td>1203.25</td>\n",
              "      <td>11.000</td>\n",
              "      <td>60.000000</td>\n",
              "      <td>0.786713</td>\n",
              "    </tr>\n",
              "    <tr>\n",
              "      <th>4</th>\n",
              "      <td>2004-03-10</td>\n",
              "      <td>22:00:00</td>\n",
              "      <td>1.6</td>\n",
              "      <td>1272.25</td>\n",
              "      <td>51</td>\n",
              "      <td>6.518224</td>\n",
              "      <td>835.50</td>\n",
              "      <td>131.0</td>\n",
              "      <td>1205.00</td>\n",
              "      <td>116.0</td>\n",
              "      <td>1490.00</td>\n",
              "      <td>1110.00</td>\n",
              "      <td>11.150</td>\n",
              "      <td>59.575001</td>\n",
              "      <td>0.788794</td>\n",
              "    </tr>\n",
              "    <tr>\n",
              "      <th>...</th>\n",
              "      <td>...</td>\n",
              "      <td>...</td>\n",
              "      <td>...</td>\n",
              "      <td>...</td>\n",
              "      <td>...</td>\n",
              "      <td>...</td>\n",
              "      <td>...</td>\n",
              "      <td>...</td>\n",
              "      <td>...</td>\n",
              "      <td>...</td>\n",
              "      <td>...</td>\n",
              "      <td>...</td>\n",
              "      <td>...</td>\n",
              "      <td>...</td>\n",
              "      <td>...</td>\n",
              "    </tr>\n",
              "    <tr>\n",
              "      <th>9352</th>\n",
              "      <td>2005-04-04</td>\n",
              "      <td>10:00:00</td>\n",
              "      <td>3.1</td>\n",
              "      <td>1314.25</td>\n",
              "      <td>-200</td>\n",
              "      <td>13.529605</td>\n",
              "      <td>1101.25</td>\n",
              "      <td>471.7</td>\n",
              "      <td>538.50</td>\n",
              "      <td>189.8</td>\n",
              "      <td>1374.25</td>\n",
              "      <td>1728.50</td>\n",
              "      <td>21.850</td>\n",
              "      <td>29.250000</td>\n",
              "      <td>0.756824</td>\n",
              "    </tr>\n",
              "    <tr>\n",
              "      <th>9353</th>\n",
              "      <td>2005-04-04</td>\n",
              "      <td>11:00:00</td>\n",
              "      <td>2.4</td>\n",
              "      <td>1162.50</td>\n",
              "      <td>-200</td>\n",
              "      <td>11.355157</td>\n",
              "      <td>1027.00</td>\n",
              "      <td>353.3</td>\n",
              "      <td>603.75</td>\n",
              "      <td>179.2</td>\n",
              "      <td>1263.50</td>\n",
              "      <td>1269.00</td>\n",
              "      <td>24.325</td>\n",
              "      <td>23.725000</td>\n",
              "      <td>0.711864</td>\n",
              "    </tr>\n",
              "    <tr>\n",
              "      <th>9354</th>\n",
              "      <td>2005-04-04</td>\n",
              "      <td>12:00:00</td>\n",
              "      <td>2.4</td>\n",
              "      <td>1142.00</td>\n",
              "      <td>-200</td>\n",
              "      <td>12.374538</td>\n",
              "      <td>1062.50</td>\n",
              "      <td>293.0</td>\n",
              "      <td>603.25</td>\n",
              "      <td>174.7</td>\n",
              "      <td>1240.75</td>\n",
              "      <td>1092.00</td>\n",
              "      <td>26.900</td>\n",
              "      <td>18.350000</td>\n",
              "      <td>0.640649</td>\n",
              "    </tr>\n",
              "    <tr>\n",
              "      <th>9355</th>\n",
              "      <td>2005-04-04</td>\n",
              "      <td>13:00:00</td>\n",
              "      <td>2.1</td>\n",
              "      <td>1002.50</td>\n",
              "      <td>-200</td>\n",
              "      <td>9.547187</td>\n",
              "      <td>960.50</td>\n",
              "      <td>234.5</td>\n",
              "      <td>701.50</td>\n",
              "      <td>155.7</td>\n",
              "      <td>1041.00</td>\n",
              "      <td>769.75</td>\n",
              "      <td>28.325</td>\n",
              "      <td>13.550000</td>\n",
              "      <td>0.513866</td>\n",
              "    </tr>\n",
              "    <tr>\n",
              "      <th>9356</th>\n",
              "      <td>2005-04-04</td>\n",
              "      <td>14:00:00</td>\n",
              "      <td>2.2</td>\n",
              "      <td>1070.75</td>\n",
              "      <td>-200</td>\n",
              "      <td>11.932060</td>\n",
              "      <td>1047.25</td>\n",
              "      <td>265.2</td>\n",
              "      <td>654.00</td>\n",
              "      <td>167.7</td>\n",
              "      <td>1128.50</td>\n",
              "      <td>816.00</td>\n",
              "      <td>28.500</td>\n",
              "      <td>13.125000</td>\n",
              "      <td>0.502804</td>\n",
              "    </tr>\n",
              "  </tbody>\n",
              "</table>\n",
              "<p>9357 rows × 15 columns</p>\n",
              "</div>"
            ],
            "text/plain": [
              "           Date      Time  CO(GT)  ...       T         RH        AH\n",
              "0    2004-03-10  18:00:00     2.6  ...  13.600  48.875001  0.757754\n",
              "1    2004-03-10  19:00:00     2.0  ...  13.300  47.700000  0.725487\n",
              "2    2004-03-10  20:00:00     2.2  ...  11.900  53.975000  0.750239\n",
              "3    2004-03-10  21:00:00     2.2  ...  11.000  60.000000  0.786713\n",
              "4    2004-03-10  22:00:00     1.6  ...  11.150  59.575001  0.788794\n",
              "...         ...       ...     ...  ...     ...        ...       ...\n",
              "9352 2005-04-04  10:00:00     3.1  ...  21.850  29.250000  0.756824\n",
              "9353 2005-04-04  11:00:00     2.4  ...  24.325  23.725000  0.711864\n",
              "9354 2005-04-04  12:00:00     2.4  ...  26.900  18.350000  0.640649\n",
              "9355 2005-04-04  13:00:00     2.1  ...  28.325  13.550000  0.513866\n",
              "9356 2005-04-04  14:00:00     2.2  ...  28.500  13.125000  0.502804\n",
              "\n",
              "[9357 rows x 15 columns]"
            ]
          },
          "metadata": {
            "tags": []
          },
          "execution_count": 7
        }
      ]
    },
    {
      "cell_type": "code",
      "metadata": {
        "id": "237mik7iTLdE"
      },
      "source": [
        "features = dataset"
      ],
      "execution_count": 8,
      "outputs": []
    },
    {
      "cell_type": "code",
      "metadata": {
        "id": "qfW5cAeaTRyu"
      },
      "source": [
        "features = features.drop('Date', axis=1)\r\n",
        "features = features.drop('Time', axis=1)\r\n",
        "features = features.drop('C6H6(GT)', axis=1)\r\n",
        "features = features.drop('PT08.S4(NO2)', axis=1)"
      ],
      "execution_count": 9,
      "outputs": []
    },
    {
      "cell_type": "code",
      "metadata": {
        "id": "j7VnbEY_Tf2y"
      },
      "source": [
        "labels = dataset['C6H6(GT)'].values"
      ],
      "execution_count": 10,
      "outputs": []
    },
    {
      "cell_type": "code",
      "metadata": {
        "id": "vnT0stFDTkvI"
      },
      "source": [
        "features = features.values"
      ],
      "execution_count": 11,
      "outputs": []
    },
    {
      "cell_type": "code",
      "metadata": {
        "cellView": "form",
        "id": "o22ApzZ3S8h8"
      },
      "source": [
        "#@title Train Test Split\n"
      ],
      "execution_count": null,
      "outputs": []
    },
    {
      "cell_type": "code",
      "metadata": {
        "id": "uJRE7ddOTBBG"
      },
      "source": [
        "from sklearn.model_selection import train_test_split"
      ],
      "execution_count": 12,
      "outputs": []
    },
    {
      "cell_type": "code",
      "metadata": {
        "id": "ZMhhI5aITFCE"
      },
      "source": [
        "X_train, X_test, y_train, y_test = train_test_split(features, labels, test_size=0.3)"
      ],
      "execution_count": 13,
      "outputs": []
    },
    {
      "cell_type": "code",
      "metadata": {
        "colab": {
          "base_uri": "https://localhost:8080/"
        },
        "id": "zc29w5IkTtx0",
        "outputId": "c29ca7ad-22f1-4806-89de-651783e4831b"
      },
      "source": [
        "print(\"y_train shape --> {}\".format(y_train.shape))\r\n",
        "print(\"X_test shape --> {}\".format(X_test.shape))\r\n",
        "print(\"y_test shape --> {}\".format(y_test.shape))"
      ],
      "execution_count": 14,
      "outputs": [
        {
          "output_type": "stream",
          "text": [
            "y_train shape --> (6549,)\n",
            "X_test shape --> (2808, 11)\n",
            "y_test shape --> (2808,)\n"
          ],
          "name": "stdout"
        }
      ]
    },
    {
      "cell_type": "code",
      "metadata": {
        "cellView": "form",
        "id": "0n2TioB-TvG1"
      },
      "source": [
        "#@title Linear Regression\n"
      ],
      "execution_count": null,
      "outputs": []
    },
    {
      "cell_type": "code",
      "metadata": {
        "id": "o-mqUFcKVSrd"
      },
      "source": [
        "from sklearn.ensemble import ExtraTreesRegressor"
      ],
      "execution_count": 38,
      "outputs": []
    },
    {
      "cell_type": "code",
      "metadata": {
        "colab": {
          "base_uri": "https://localhost:8080/"
        },
        "id": "8iqZNGlAVWIY",
        "outputId": "3a8ffb76-62cf-4d88-ed1b-c68ef1162afc"
      },
      "source": [
        "etr = ExtraTreesRegressor(n_estimators=300)\r\n",
        "etr.fit(X_train, y_train)"
      ],
      "execution_count": 39,
      "outputs": [
        {
          "output_type": "execute_result",
          "data": {
            "text/plain": [
              "ExtraTreesRegressor(bootstrap=False, ccp_alpha=0.0, criterion='mse',\n",
              "                    max_depth=None, max_features='auto', max_leaf_nodes=None,\n",
              "                    max_samples=None, min_impurity_decrease=0.0,\n",
              "                    min_impurity_split=None, min_samples_leaf=1,\n",
              "                    min_samples_split=2, min_weight_fraction_leaf=0.0,\n",
              "                    n_estimators=300, n_jobs=None, oob_score=False,\n",
              "                    random_state=None, verbose=0, warm_start=False)"
            ]
          },
          "metadata": {
            "tags": []
          },
          "execution_count": 39
        }
      ]
    },
    {
      "cell_type": "code",
      "metadata": {
        "colab": {
          "base_uri": "https://localhost:8080/"
        },
        "id": "tZt_WNISVYxI",
        "outputId": "f05915ac-e4fc-45f2-ccdf-8adbf6cac0d6"
      },
      "source": [
        "print(etr.feature_importances_)\r\n",
        "indecis = np.argsort(etr.feature_importances_)[::-1]"
      ],
      "execution_count": 40,
      "outputs": [
        {
          "output_type": "stream",
          "text": [
            "[2.36168209e-04 1.15256908e-01 3.98605204e-06 7.92944484e-02\n",
            " 4.78387039e-04 5.01341710e-02 7.48714192e-05 5.29173814e-03\n",
            " 2.48682910e-01 1.77636798e-01 3.22909613e-01]\n"
          ],
          "name": "stdout"
        }
      ]
    },
    {
      "cell_type": "code",
      "metadata": {
        "id": "otJ0HHGxYq7B"
      },
      "source": [
        "from sklearn.model_selection import train_test_split\r\n",
        "X_train, X_test, y_train, y_test = train_test_split(features, labels, test_size=0.3, random_state=0)"
      ],
      "execution_count": 19,
      "outputs": []
    },
    {
      "cell_type": "code",
      "metadata": {
        "colab": {
          "base_uri": "https://localhost:8080/"
        },
        "id": "-FMPQQJgY8it",
        "outputId": "a2dbe39c-8ed9-457e-9a30-ea625a454e04"
      },
      "source": [
        "from sklearn import metrics\r\n",
        "from sklearn.neural_network import MLPRegressor\r\n",
        "from sklearn.feature_selection import SelectKBest,mutual_info_regression\r\n",
        "from sklearn.model_selection import cross_val_score\r\n",
        "\r\n",
        "X_Best = SelectKBest(mutual_info_regression, k=6).fit_transform(features, labels)\r\n",
        "print(X_Best.shape)\r\n",
        "X_train, X_test, y_train, y_test = train_test_split(X_Best, labels, test_size=0.3, random_state=0)\r\n",
        "\r\n",
        "regressor = MLPRegressor()\r\n",
        "regressor.fit(X_train,y_train)\r\n",
        "print(regressor.score(X_test,y_test))\r\n",
        "cross_val_score(regressor, X_train, y_train, cv=6)"
      ],
      "execution_count": 23,
      "outputs": [
        {
          "output_type": "stream",
          "text": [
            "(9357, 6)\n",
            "0.9975972796418275\n"
          ],
          "name": "stdout"
        },
        {
          "output_type": "stream",
          "text": [
            "/usr/local/lib/python3.6/dist-packages/sklearn/neural_network/_multilayer_perceptron.py:571: ConvergenceWarning: Stochastic Optimizer: Maximum iterations (200) reached and the optimization hasn't converged yet.\n",
            "  % self.max_iter, ConvergenceWarning)\n"
          ],
          "name": "stderr"
        },
        {
          "output_type": "execute_result",
          "data": {
            "text/plain": [
              "array([0.99892064, 0.99794772, 0.99902602, 0.99787234, 0.99874649,\n",
              "       0.99818645])"
            ]
          },
          "metadata": {
            "tags": []
          },
          "execution_count": 23
        }
      ]
    },
    {
      "cell_type": "code",
      "metadata": {
        "id": "teFQ6y7hZgil"
      },
      "source": [
        "import keras\r\n",
        "from keras.models import Sequential\r\n",
        "from keras.layers import Dense\r\n",
        "from keras.layers import LeakyReLU,PReLU,ELU\r\n",
        "from keras.layers import Dropout"
      ],
      "execution_count": 25,
      "outputs": []
    },
    {
      "cell_type": "code",
      "metadata": {
        "colab": {
          "base_uri": "https://localhost:8080/"
        },
        "id": "1kM9OQ5kZoqo",
        "outputId": "13355081-2168-41fc-ad43-260d2edbcf30"
      },
      "source": [
        "X_train, X_test, y_train, y_test = train_test_split(features, labels, test_size=0.3, random_state=0)\r\n",
        "nuralNetworkModel = Sequential()\r\n",
        "\r\n",
        "# The Input Layer :\r\n",
        "nuralNetworkModel.add(Dense(128, kernel_initializer='normal',input_dim = X_train.shape[1], activation='relu'))\r\n",
        "\r\n",
        "# The Hidden Layers :\r\n",
        "nuralNetworkModel.add(Dense(256, kernel_initializer='normal',activation='relu'))\r\n",
        "nuralNetworkModel.add(Dense(256, kernel_initializer='normal',activation='relu'))\r\n",
        "nuralNetworkModel.add(Dense(256, kernel_initializer='normal',activation='relu'))\r\n",
        "nuralNetworkModel.add(Dense(256, kernel_initializer='normal',activation='relu'))\r\n",
        "nuralNetworkModel.add(Dense(256, kernel_initializer='normal',activation='relu'))\r\n",
        "\r\n",
        "# The Output Layer :\r\n",
        "nuralNetworkModel.add(Dense(1, kernel_initializer='normal',activation='linear'))\r\n",
        "\r\n",
        "# Compile the network :\r\n",
        "nuralNetworkModel.compile(loss='mean_absolute_error', optimizer='adam', metrics=['mean_absolute_error'])\r\n",
        "nuralNetworkModel.summary()\r\n",
        "\r\n",
        "# Fitting the ANN to the Training set\r\n",
        "nuralNetworkModel.fit(X_train, y_train,validation_split=0.33, batch_size = 10, epochs = 100)"
      ],
      "execution_count": 27,
      "outputs": [
        {
          "output_type": "stream",
          "text": [
            "Model: \"sequential_1\"\n",
            "_________________________________________________________________\n",
            "Layer (type)                 Output Shape              Param #   \n",
            "=================================================================\n",
            "dense_7 (Dense)              (None, 128)               1536      \n",
            "_________________________________________________________________\n",
            "dense_8 (Dense)              (None, 256)               33024     \n",
            "_________________________________________________________________\n",
            "dense_9 (Dense)              (None, 256)               65792     \n",
            "_________________________________________________________________\n",
            "dense_10 (Dense)             (None, 256)               65792     \n",
            "_________________________________________________________________\n",
            "dense_11 (Dense)             (None, 256)               65792     \n",
            "_________________________________________________________________\n",
            "dense_12 (Dense)             (None, 256)               65792     \n",
            "_________________________________________________________________\n",
            "dense_13 (Dense)             (None, 1)                 257       \n",
            "=================================================================\n",
            "Total params: 297,985\n",
            "Trainable params: 297,985\n",
            "Non-trainable params: 0\n",
            "_________________________________________________________________\n",
            "Epoch 1/100\n",
            "439/439 [==============================] - 3s 6ms/step - loss: 5.2769 - mean_absolute_error: 5.2769 - val_loss: 3.6203 - val_mean_absolute_error: 3.6203\n",
            "Epoch 2/100\n",
            "439/439 [==============================] - 2s 5ms/step - loss: 2.3354 - mean_absolute_error: 2.3354 - val_loss: 0.7870 - val_mean_absolute_error: 0.7870\n",
            "Epoch 3/100\n",
            "439/439 [==============================] - 2s 5ms/step - loss: 1.7911 - mean_absolute_error: 1.7911 - val_loss: 1.1801 - val_mean_absolute_error: 1.1801\n",
            "Epoch 4/100\n",
            "439/439 [==============================] - 2s 5ms/step - loss: 1.7286 - mean_absolute_error: 1.7286 - val_loss: 1.2521 - val_mean_absolute_error: 1.2521\n",
            "Epoch 5/100\n",
            "439/439 [==============================] - 2s 5ms/step - loss: 2.0250 - mean_absolute_error: 2.0250 - val_loss: 1.6066 - val_mean_absolute_error: 1.6066\n",
            "Epoch 6/100\n",
            "439/439 [==============================] - 2s 5ms/step - loss: 1.5711 - mean_absolute_error: 1.5711 - val_loss: 1.0897 - val_mean_absolute_error: 1.0897\n",
            "Epoch 7/100\n",
            "439/439 [==============================] - 2s 6ms/step - loss: 1.4932 - mean_absolute_error: 1.4932 - val_loss: 0.9057 - val_mean_absolute_error: 0.9057\n",
            "Epoch 8/100\n",
            "439/439 [==============================] - 2s 5ms/step - loss: 1.8066 - mean_absolute_error: 1.8066 - val_loss: 1.1313 - val_mean_absolute_error: 1.1313\n",
            "Epoch 9/100\n",
            "439/439 [==============================] - 2s 5ms/step - loss: 1.5853 - mean_absolute_error: 1.5853 - val_loss: 1.6757 - val_mean_absolute_error: 1.6757\n",
            "Epoch 10/100\n",
            "439/439 [==============================] - 2s 5ms/step - loss: 1.4629 - mean_absolute_error: 1.4629 - val_loss: 1.4558 - val_mean_absolute_error: 1.4558\n",
            "Epoch 11/100\n",
            "439/439 [==============================] - 2s 5ms/step - loss: 1.1960 - mean_absolute_error: 1.1960 - val_loss: 1.8668 - val_mean_absolute_error: 1.8668\n",
            "Epoch 12/100\n",
            "439/439 [==============================] - 2s 6ms/step - loss: 1.3084 - mean_absolute_error: 1.3084 - val_loss: 2.2208 - val_mean_absolute_error: 2.2208\n",
            "Epoch 13/100\n",
            "439/439 [==============================] - 2s 5ms/step - loss: 1.4187 - mean_absolute_error: 1.4187 - val_loss: 0.6852 - val_mean_absolute_error: 0.6852\n",
            "Epoch 14/100\n",
            "439/439 [==============================] - 3s 6ms/step - loss: 0.9764 - mean_absolute_error: 0.9764 - val_loss: 0.7886 - val_mean_absolute_error: 0.7886\n",
            "Epoch 15/100\n",
            "439/439 [==============================] - 2s 6ms/step - loss: 1.3964 - mean_absolute_error: 1.3964 - val_loss: 0.9080 - val_mean_absolute_error: 0.9080\n",
            "Epoch 16/100\n",
            "439/439 [==============================] - 2s 5ms/step - loss: 0.9550 - mean_absolute_error: 0.9550 - val_loss: 1.4118 - val_mean_absolute_error: 1.4118\n",
            "Epoch 17/100\n",
            "439/439 [==============================] - 3s 6ms/step - loss: 1.1565 - mean_absolute_error: 1.1565 - val_loss: 0.5056 - val_mean_absolute_error: 0.5056\n",
            "Epoch 18/100\n",
            "439/439 [==============================] - 2s 6ms/step - loss: 0.8406 - mean_absolute_error: 0.8406 - val_loss: 0.5826 - val_mean_absolute_error: 0.5826\n",
            "Epoch 19/100\n",
            "439/439 [==============================] - 2s 6ms/step - loss: 1.0268 - mean_absolute_error: 1.0268 - val_loss: 1.0255 - val_mean_absolute_error: 1.0255\n",
            "Epoch 20/100\n",
            "439/439 [==============================] - 2s 6ms/step - loss: 1.1603 - mean_absolute_error: 1.1603 - val_loss: 0.4535 - val_mean_absolute_error: 0.4535\n",
            "Epoch 21/100\n",
            "439/439 [==============================] - 3s 6ms/step - loss: 0.8997 - mean_absolute_error: 0.8997 - val_loss: 0.5586 - val_mean_absolute_error: 0.5586\n",
            "Epoch 22/100\n",
            "439/439 [==============================] - 2s 5ms/step - loss: 0.8568 - mean_absolute_error: 0.8568 - val_loss: 0.8519 - val_mean_absolute_error: 0.8519\n",
            "Epoch 23/100\n",
            "439/439 [==============================] - 2s 5ms/step - loss: 0.9910 - mean_absolute_error: 0.9910 - val_loss: 0.4158 - val_mean_absolute_error: 0.4158\n",
            "Epoch 24/100\n",
            "439/439 [==============================] - 2s 5ms/step - loss: 0.7645 - mean_absolute_error: 0.7645 - val_loss: 0.9985 - val_mean_absolute_error: 0.9985\n",
            "Epoch 25/100\n",
            "439/439 [==============================] - 2s 5ms/step - loss: 0.9564 - mean_absolute_error: 0.9564 - val_loss: 0.6395 - val_mean_absolute_error: 0.6395\n",
            "Epoch 26/100\n",
            "439/439 [==============================] - 2s 5ms/step - loss: 0.7733 - mean_absolute_error: 0.7733 - val_loss: 1.3328 - val_mean_absolute_error: 1.3328\n",
            "Epoch 27/100\n",
            "439/439 [==============================] - 2s 5ms/step - loss: 0.8431 - mean_absolute_error: 0.8431 - val_loss: 0.3995 - val_mean_absolute_error: 0.3995\n",
            "Epoch 28/100\n",
            "439/439 [==============================] - 2s 5ms/step - loss: 0.8258 - mean_absolute_error: 0.8258 - val_loss: 0.4633 - val_mean_absolute_error: 0.4633\n",
            "Epoch 29/100\n",
            "439/439 [==============================] - 2s 5ms/step - loss: 0.7098 - mean_absolute_error: 0.7098 - val_loss: 0.4971 - val_mean_absolute_error: 0.4971\n",
            "Epoch 30/100\n",
            "439/439 [==============================] - 2s 5ms/step - loss: 0.8264 - mean_absolute_error: 0.8264 - val_loss: 0.3231 - val_mean_absolute_error: 0.3231\n",
            "Epoch 31/100\n",
            "439/439 [==============================] - 2s 5ms/step - loss: 0.8580 - mean_absolute_error: 0.8580 - val_loss: 0.6746 - val_mean_absolute_error: 0.6746\n",
            "Epoch 32/100\n",
            "439/439 [==============================] - 2s 5ms/step - loss: 1.0435 - mean_absolute_error: 1.0435 - val_loss: 0.7057 - val_mean_absolute_error: 0.7057\n",
            "Epoch 33/100\n",
            "439/439 [==============================] - 2s 5ms/step - loss: 0.8835 - mean_absolute_error: 0.8835 - val_loss: 0.9721 - val_mean_absolute_error: 0.9721\n",
            "Epoch 34/100\n",
            "439/439 [==============================] - 2s 5ms/step - loss: 0.7283 - mean_absolute_error: 0.7283 - val_loss: 1.6245 - val_mean_absolute_error: 1.6245\n",
            "Epoch 35/100\n",
            "439/439 [==============================] - 2s 5ms/step - loss: 1.0440 - mean_absolute_error: 1.0440 - val_loss: 1.3210 - val_mean_absolute_error: 1.3210\n",
            "Epoch 36/100\n",
            "439/439 [==============================] - 2s 5ms/step - loss: 0.7534 - mean_absolute_error: 0.7534 - val_loss: 0.4474 - val_mean_absolute_error: 0.4474\n",
            "Epoch 37/100\n",
            "439/439 [==============================] - 2s 5ms/step - loss: 0.9819 - mean_absolute_error: 0.9819 - val_loss: 0.6965 - val_mean_absolute_error: 0.6965\n",
            "Epoch 38/100\n",
            "439/439 [==============================] - 2s 6ms/step - loss: 0.6625 - mean_absolute_error: 0.6625 - val_loss: 0.7780 - val_mean_absolute_error: 0.7780\n",
            "Epoch 39/100\n",
            "439/439 [==============================] - 2s 5ms/step - loss: 0.5952 - mean_absolute_error: 0.5952 - val_loss: 0.6349 - val_mean_absolute_error: 0.6349\n",
            "Epoch 40/100\n",
            "439/439 [==============================] - 2s 5ms/step - loss: 0.6824 - mean_absolute_error: 0.6824 - val_loss: 1.2320 - val_mean_absolute_error: 1.2320\n",
            "Epoch 41/100\n",
            "439/439 [==============================] - 2s 5ms/step - loss: 0.6444 - mean_absolute_error: 0.6444 - val_loss: 0.9356 - val_mean_absolute_error: 0.9356\n",
            "Epoch 42/100\n",
            "439/439 [==============================] - 2s 5ms/step - loss: 0.7762 - mean_absolute_error: 0.7762 - val_loss: 0.5894 - val_mean_absolute_error: 0.5894\n",
            "Epoch 43/100\n",
            "439/439 [==============================] - 2s 5ms/step - loss: 0.6010 - mean_absolute_error: 0.6010 - val_loss: 0.3952 - val_mean_absolute_error: 0.3952\n",
            "Epoch 44/100\n",
            "439/439 [==============================] - 2s 5ms/step - loss: 0.7171 - mean_absolute_error: 0.7171 - val_loss: 0.3349 - val_mean_absolute_error: 0.3349\n",
            "Epoch 45/100\n",
            "439/439 [==============================] - 2s 5ms/step - loss: 0.6775 - mean_absolute_error: 0.6775 - val_loss: 0.3909 - val_mean_absolute_error: 0.3909\n",
            "Epoch 46/100\n",
            "439/439 [==============================] - 2s 6ms/step - loss: 0.5763 - mean_absolute_error: 0.5763 - val_loss: 0.3183 - val_mean_absolute_error: 0.3183\n",
            "Epoch 47/100\n",
            "439/439 [==============================] - 2s 5ms/step - loss: 0.6127 - mean_absolute_error: 0.6127 - val_loss: 1.6016 - val_mean_absolute_error: 1.6016\n",
            "Epoch 48/100\n",
            "439/439 [==============================] - 2s 5ms/step - loss: 0.7012 - mean_absolute_error: 0.7012 - val_loss: 0.3033 - val_mean_absolute_error: 0.3033\n",
            "Epoch 49/100\n",
            "439/439 [==============================] - 2s 5ms/step - loss: 0.5479 - mean_absolute_error: 0.5479 - val_loss: 0.5083 - val_mean_absolute_error: 0.5083\n",
            "Epoch 50/100\n",
            "439/439 [==============================] - 2s 5ms/step - loss: 0.6979 - mean_absolute_error: 0.6979 - val_loss: 0.6771 - val_mean_absolute_error: 0.6771\n",
            "Epoch 51/100\n",
            "439/439 [==============================] - 2s 5ms/step - loss: 0.6436 - mean_absolute_error: 0.6436 - val_loss: 0.2036 - val_mean_absolute_error: 0.2036\n",
            "Epoch 52/100\n",
            "439/439 [==============================] - 2s 5ms/step - loss: 0.5159 - mean_absolute_error: 0.5159 - val_loss: 0.7359 - val_mean_absolute_error: 0.7359\n",
            "Epoch 53/100\n",
            "439/439 [==============================] - 2s 5ms/step - loss: 0.5890 - mean_absolute_error: 0.5890 - val_loss: 1.0736 - val_mean_absolute_error: 1.0736\n",
            "Epoch 54/100\n",
            "439/439 [==============================] - 2s 5ms/step - loss: 0.5990 - mean_absolute_error: 0.5990 - val_loss: 0.4294 - val_mean_absolute_error: 0.4294\n",
            "Epoch 55/100\n",
            "439/439 [==============================] - 2s 6ms/step - loss: 0.6488 - mean_absolute_error: 0.6488 - val_loss: 0.2431 - val_mean_absolute_error: 0.2431\n",
            "Epoch 56/100\n",
            "439/439 [==============================] - 2s 5ms/step - loss: 0.7090 - mean_absolute_error: 0.7090 - val_loss: 1.2969 - val_mean_absolute_error: 1.2969\n",
            "Epoch 57/100\n",
            "439/439 [==============================] - 2s 5ms/step - loss: 0.6985 - mean_absolute_error: 0.6985 - val_loss: 0.4654 - val_mean_absolute_error: 0.4654\n",
            "Epoch 58/100\n",
            "439/439 [==============================] - 2s 5ms/step - loss: 0.7965 - mean_absolute_error: 0.7965 - val_loss: 0.8835 - val_mean_absolute_error: 0.8835\n",
            "Epoch 59/100\n",
            "439/439 [==============================] - 2s 5ms/step - loss: 0.6282 - mean_absolute_error: 0.6282 - val_loss: 0.1449 - val_mean_absolute_error: 0.1449\n",
            "Epoch 60/100\n",
            "439/439 [==============================] - 2s 5ms/step - loss: 0.4571 - mean_absolute_error: 0.4571 - val_loss: 0.8035 - val_mean_absolute_error: 0.8035\n",
            "Epoch 61/100\n",
            "439/439 [==============================] - 2s 5ms/step - loss: 0.5318 - mean_absolute_error: 0.5318 - val_loss: 0.4497 - val_mean_absolute_error: 0.4497\n",
            "Epoch 62/100\n",
            "439/439 [==============================] - 2s 5ms/step - loss: 0.6068 - mean_absolute_error: 0.6068 - val_loss: 1.0643 - val_mean_absolute_error: 1.0643\n",
            "Epoch 63/100\n",
            "439/439 [==============================] - 2s 5ms/step - loss: 0.5155 - mean_absolute_error: 0.5155 - val_loss: 0.2625 - val_mean_absolute_error: 0.2625\n",
            "Epoch 64/100\n",
            "439/439 [==============================] - 2s 5ms/step - loss: 0.6175 - mean_absolute_error: 0.6175 - val_loss: 0.2942 - val_mean_absolute_error: 0.2942\n",
            "Epoch 65/100\n",
            "439/439 [==============================] - 2s 5ms/step - loss: 0.5451 - mean_absolute_error: 0.5451 - val_loss: 0.2698 - val_mean_absolute_error: 0.2698\n",
            "Epoch 66/100\n",
            "439/439 [==============================] - 2s 5ms/step - loss: 0.5883 - mean_absolute_error: 0.5883 - val_loss: 0.9136 - val_mean_absolute_error: 0.9136\n",
            "Epoch 67/100\n",
            "439/439 [==============================] - 2s 5ms/step - loss: 0.4877 - mean_absolute_error: 0.4877 - val_loss: 0.7651 - val_mean_absolute_error: 0.7651\n",
            "Epoch 68/100\n",
            "439/439 [==============================] - 2s 5ms/step - loss: 0.5854 - mean_absolute_error: 0.5854 - val_loss: 0.6891 - val_mean_absolute_error: 0.6891\n",
            "Epoch 69/100\n",
            "439/439 [==============================] - 2s 5ms/step - loss: 0.4871 - mean_absolute_error: 0.4871 - val_loss: 0.4219 - val_mean_absolute_error: 0.4219\n",
            "Epoch 70/100\n",
            "439/439 [==============================] - 2s 5ms/step - loss: 0.6722 - mean_absolute_error: 0.6722 - val_loss: 0.2277 - val_mean_absolute_error: 0.2277\n",
            "Epoch 71/100\n",
            "439/439 [==============================] - 2s 5ms/step - loss: 0.5326 - mean_absolute_error: 0.5326 - val_loss: 0.9249 - val_mean_absolute_error: 0.9249\n",
            "Epoch 72/100\n",
            "439/439 [==============================] - 2s 5ms/step - loss: 0.6575 - mean_absolute_error: 0.6575 - val_loss: 0.4581 - val_mean_absolute_error: 0.4581\n",
            "Epoch 73/100\n",
            "439/439 [==============================] - 2s 5ms/step - loss: 0.4775 - mean_absolute_error: 0.4775 - val_loss: 0.3692 - val_mean_absolute_error: 0.3692\n",
            "Epoch 74/100\n",
            "439/439 [==============================] - 2s 5ms/step - loss: 0.5377 - mean_absolute_error: 0.5377 - val_loss: 0.4949 - val_mean_absolute_error: 0.4949\n",
            "Epoch 75/100\n",
            "439/439 [==============================] - 2s 5ms/step - loss: 0.4763 - mean_absolute_error: 0.4763 - val_loss: 1.0204 - val_mean_absolute_error: 1.0204\n",
            "Epoch 76/100\n",
            "439/439 [==============================] - 2s 5ms/step - loss: 0.6804 - mean_absolute_error: 0.6804 - val_loss: 0.6688 - val_mean_absolute_error: 0.6688\n",
            "Epoch 77/100\n",
            "439/439 [==============================] - 2s 5ms/step - loss: 0.4922 - mean_absolute_error: 0.4922 - val_loss: 0.5764 - val_mean_absolute_error: 0.5764\n",
            "Epoch 78/100\n",
            "439/439 [==============================] - 2s 5ms/step - loss: 0.6180 - mean_absolute_error: 0.6180 - val_loss: 0.2862 - val_mean_absolute_error: 0.2862\n",
            "Epoch 79/100\n",
            "439/439 [==============================] - 2s 5ms/step - loss: 0.4945 - mean_absolute_error: 0.4945 - val_loss: 0.6289 - val_mean_absolute_error: 0.6289\n",
            "Epoch 80/100\n",
            "439/439 [==============================] - 2s 5ms/step - loss: 0.5175 - mean_absolute_error: 0.5175 - val_loss: 0.4242 - val_mean_absolute_error: 0.4242\n",
            "Epoch 81/100\n",
            "439/439 [==============================] - 2s 5ms/step - loss: 0.4909 - mean_absolute_error: 0.4909 - val_loss: 0.2574 - val_mean_absolute_error: 0.2574\n",
            "Epoch 82/100\n",
            "439/439 [==============================] - 2s 5ms/step - loss: 0.5790 - mean_absolute_error: 0.5790 - val_loss: 0.4920 - val_mean_absolute_error: 0.4920\n",
            "Epoch 83/100\n",
            "439/439 [==============================] - 2s 5ms/step - loss: 0.5699 - mean_absolute_error: 0.5699 - val_loss: 0.4372 - val_mean_absolute_error: 0.4372\n",
            "Epoch 84/100\n",
            "439/439 [==============================] - 2s 5ms/step - loss: 0.4753 - mean_absolute_error: 0.4753 - val_loss: 0.3110 - val_mean_absolute_error: 0.3110\n",
            "Epoch 85/100\n",
            "439/439 [==============================] - 2s 5ms/step - loss: 0.4241 - mean_absolute_error: 0.4241 - val_loss: 0.5108 - val_mean_absolute_error: 0.5108\n",
            "Epoch 86/100\n",
            "439/439 [==============================] - 2s 5ms/step - loss: 0.4857 - mean_absolute_error: 0.4857 - val_loss: 0.3705 - val_mean_absolute_error: 0.3705\n",
            "Epoch 87/100\n",
            "439/439 [==============================] - 2s 5ms/step - loss: 0.5044 - mean_absolute_error: 0.5044 - val_loss: 0.5026 - val_mean_absolute_error: 0.5026\n",
            "Epoch 88/100\n",
            "439/439 [==============================] - 2s 5ms/step - loss: 0.3887 - mean_absolute_error: 0.3887 - val_loss: 0.3795 - val_mean_absolute_error: 0.3795\n",
            "Epoch 89/100\n",
            "439/439 [==============================] - 2s 5ms/step - loss: 0.4951 - mean_absolute_error: 0.4951 - val_loss: 0.5752 - val_mean_absolute_error: 0.5752\n",
            "Epoch 90/100\n",
            "439/439 [==============================] - 2s 5ms/step - loss: 0.5266 - mean_absolute_error: 0.5266 - val_loss: 0.2850 - val_mean_absolute_error: 0.2850\n",
            "Epoch 91/100\n",
            "439/439 [==============================] - 2s 5ms/step - loss: 0.4718 - mean_absolute_error: 0.4718 - val_loss: 0.1651 - val_mean_absolute_error: 0.1651\n",
            "Epoch 92/100\n",
            "439/439 [==============================] - 2s 5ms/step - loss: 0.4606 - mean_absolute_error: 0.4606 - val_loss: 1.0946 - val_mean_absolute_error: 1.0946\n",
            "Epoch 93/100\n",
            "439/439 [==============================] - 2s 5ms/step - loss: 0.6512 - mean_absolute_error: 0.6512 - val_loss: 0.4057 - val_mean_absolute_error: 0.4057\n",
            "Epoch 94/100\n",
            "439/439 [==============================] - 2s 5ms/step - loss: 0.4617 - mean_absolute_error: 0.4617 - val_loss: 0.4764 - val_mean_absolute_error: 0.4764\n",
            "Epoch 95/100\n",
            "439/439 [==============================] - 2s 5ms/step - loss: 0.4662 - mean_absolute_error: 0.4662 - val_loss: 0.6102 - val_mean_absolute_error: 0.6102\n",
            "Epoch 96/100\n",
            "439/439 [==============================] - 2s 5ms/step - loss: 0.5135 - mean_absolute_error: 0.5135 - val_loss: 0.3264 - val_mean_absolute_error: 0.3264\n",
            "Epoch 97/100\n",
            "439/439 [==============================] - 2s 5ms/step - loss: 0.6030 - mean_absolute_error: 0.6030 - val_loss: 0.3445 - val_mean_absolute_error: 0.3445\n",
            "Epoch 98/100\n",
            "439/439 [==============================] - 2s 5ms/step - loss: 0.4803 - mean_absolute_error: 0.4803 - val_loss: 0.3713 - val_mean_absolute_error: 0.3713\n",
            "Epoch 99/100\n",
            "439/439 [==============================] - 2s 5ms/step - loss: 0.4255 - mean_absolute_error: 0.4255 - val_loss: 0.3161 - val_mean_absolute_error: 0.3161\n",
            "Epoch 100/100\n",
            "439/439 [==============================] - 2s 5ms/step - loss: 0.5326 - mean_absolute_error: 0.5326 - val_loss: 0.5270 - val_mean_absolute_error: 0.5270\n"
          ],
          "name": "stdout"
        },
        {
          "output_type": "execute_result",
          "data": {
            "text/plain": [
              "<tensorflow.python.keras.callbacks.History at 0x7f60d9238128>"
            ]
          },
          "metadata": {
            "tags": []
          },
          "execution_count": 27
        }
      ]
    },
    {
      "cell_type": "code",
      "metadata": {
        "id": "kHkpQ41cawCr"
      },
      "source": [
        "predictValues = nuralNetworkModel.predict(X_test)"
      ],
      "execution_count": 34,
      "outputs": []
    },
    {
      "cell_type": "code",
      "metadata": {
        "colab": {
          "base_uri": "https://localhost:8080/"
        },
        "id": "gmIqi0JQbH22",
        "outputId": "06123db3-9b66-4971-a827-1d3831033052"
      },
      "source": [
        "from sklearn import metrics\r\n",
        "print('MAE:', metrics.mean_absolute_error(y_test, predictValues))\r\n",
        "print('MSE:', metrics.mean_squared_error(y_test, predictValues))\r\n",
        "print('RMSE:', np.sqrt(metrics.mean_squared_error(y_test, predictValues)))"
      ],
      "execution_count": 36,
      "outputs": [
        {
          "output_type": "stream",
          "text": [
            "MAE: 0.5375955039519328\n",
            "MSE: 1.8413905799296342\n",
            "RMSE: 1.3569784743796174\n"
          ],
          "name": "stdout"
        }
      ]
    },
    {
      "cell_type": "code",
      "metadata": {
        "colab": {
          "base_uri": "https://localhost:8080/",
          "height": 694
        },
        "id": "LI5MlbCKbaqn",
        "outputId": "eb6b8134-920c-491e-80b0-f93eb6a4f26d"
      },
      "source": [
        "plt.figure(num=None, figsize=(14, 10), dpi=80, facecolor='w')\r\n",
        "plt.title(\"Feature importances\")\r\n",
        "plt.xlabel(\"C6H6(GT)\")\r\n",
        "plt.ylabel(\"Frequency on the scale 0-1\")\r\n",
        "plt.bar(range(X_train.shape[1]), etr.feature_importances_[indecis],\r\n",
        "       color=\"r\", align=\"center\")\r\n",
        "plt.xticks(range(X_train.shape[1]), indecis)\r\n",
        "plt.show()"
      ],
      "execution_count": 41,
      "outputs": [
        {
          "output_type": "display_data",
          "data": {
            "image/png": "[encoded data removed]",
            "text/plain": [
              "<Figure size 1120x800 with 1 Axes>"
            ]
          },
          "metadata": {
            "tags": []
          }
        }
      ]
    },
    {
      "cell_type": "code",
      "metadata": {
        "colab": {
          "base_uri": "https://localhost:8080/",
          "height": 302
        },
        "id": "nRLYhv4_UCZQ",
        "outputId": "e54b0eee-1bb8-4bd0-a780-276dad63b497"
      },
      "source": [
        "plt.plot(predictValues, y_test)\r\n",
        "plt.xlabel(\"y_test\")\r\n",
        "plt.ylabel(\"y_pred\")   \r\n",
        "plt.scatter(predictValues,y_test)"
      ],
      "execution_count": 44,
      "outputs": [
        {
          "output_type": "execute_result",
          "data": {
            "text/plain": [
              "<matplotlib.collections.PathCollection at 0x7f60d5a03630>"
            ]
          },
          "metadata": {
            "tags": []
          },
          "execution_count": 44
        },
        {
          "output_type": "display_data",
          "data": {
            "image/png": "[encoded data removed]",
            "text/plain": [
              "<Figure size 432x288 with 1 Axes>"
            ]
          },
          "metadata": {
            "tags": []
          }
        }
      ]
    }
  ]
}
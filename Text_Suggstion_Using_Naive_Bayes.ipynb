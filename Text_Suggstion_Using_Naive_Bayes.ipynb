{
  "nbformat": 4,
  "nbformat_minor": 0,
  "metadata": {
    "colab": {
      "name": "Text_Suggstion_Using_Naive_Bayes.ipynb",
      "provenance": [],
      "authorship_tag": "ABX9TyOez9CpexztRSu8ntzBjlRB",
      "include_colab_link": true
    },
    "kernelspec": {
      "name": "python3",
      "display_name": "Python 3"
    }
  },
  "cells": [
    {
      "cell_type": "markdown",
      "metadata": {
        "id": "view-in-github",
        "colab_type": "text"
      },
      "source": [
        "<a href=\"https://colab.research.google.com/github/bdafahim/AI_Assignment/blob/main/Text_Suggstion_Using_Naive_Bayes.ipynb\" target=\"_parent\"><img src=\"https://colab.research.google.com/assets/colab-badge.svg\" alt=\"Open In Colab\"/></a>"
      ]
    },
    {
      "cell_type": "code",
      "metadata": {
        "id": "XfsOaCUn04jH"
      },
      "source": [
        "import nltk\r\n",
        "from nltk import bigrams,trigrams \r\n",
        "from nltk.corpus import reuters\r\n",
        "from collections import Counter, defaultdict\r\n",
        "from gensim.test.utils import datapath\r\n",
        "from gensim.corpora import WikiCorpus"
      ],
      "execution_count": 1,
      "outputs": []
    },
    {
      "cell_type": "code",
      "metadata": {
        "colab": {
          "base_uri": "https://localhost:8080/"
        },
        "id": "tqDLaFf_0_UE",
        "outputId": "af93704d-7ddb-4e0d-9898-b179b75b0ffa"
      },
      "source": [
        "pathForWikiDataset = datapath('enwiki-latest-pages-articles1.xml-p000000010p000030302-shortened.bz2')\r\n",
        "wikiSentences = WikiCorpus(pathForWikiDataset).get_texts()\r\n",
        "print(wikiSentences)"
      ],
      "execution_count": 2,
      "outputs": [
        {
          "output_type": "stream",
          "text": [
            "<generator object WikiCorpus.get_texts at 0x7fa36f51bfc0>\n"
          ],
          "name": "stdout"
        }
      ]
    },
    {
      "cell_type": "code",
      "metadata": {
        "colab": {
          "base_uri": "https://localhost:8080/"
        },
        "id": "FHYsreud1GHl",
        "outputId": "84f9ea93-01b2-4b0f-ac73-91161dc6e048"
      },
      "source": [
        "nltk.download('punkt')\r\n",
        "nltk.download('reuters')\r\n",
        "reutersSentences  = reuters.sents()\r\n",
        "print(reutersSentences)"
      ],
      "execution_count": 3,
      "outputs": [
        {
          "output_type": "stream",
          "text": [
            "[nltk_data] Downloading package punkt to /root/nltk_data...\n",
            "[nltk_data]   Unzipping tokenizers/punkt.zip.\n",
            "[nltk_data] Downloading package reuters to /root/nltk_data...\n",
            "[['ASIAN', 'EXPORTERS', 'FEAR', 'DAMAGE', 'FROM', 'U', '.', 'S', '.-', 'JAPAN', 'RIFT', 'Mounting', 'trade', 'friction', 'between', 'the', 'U', '.', 'S', '.', 'And', 'Japan', 'has', 'raised', 'fears', 'among', 'many', 'of', 'Asia', \"'\", 's', 'exporting', 'nations', 'that', 'the', 'row', 'could', 'inflict', 'far', '-', 'reaching', 'economic', 'damage', ',', 'businessmen', 'and', 'officials', 'said', '.'], ['They', 'told', 'Reuter', 'correspondents', 'in', 'Asian', 'capitals', 'a', 'U', '.', 'S', '.', 'Move', 'against', 'Japan', 'might', 'boost', 'protectionist', 'sentiment', 'in', 'the', 'U', '.', 'S', '.', 'And', 'lead', 'to', 'curbs', 'on', 'American', 'imports', 'of', 'their', 'products', '.'], ...]\n"
          ],
          "name": "stdout"
        }
      ]
    },
    {
      "cell_type": "code",
      "metadata": {
        "id": "ahlUdYxO1PEZ"
      },
      "source": [
        "def calculateProbabilities(sentenceModel):\r\n",
        "  for nextWord in sentenceModel:\r\n",
        "    nextWords = sentenceModel[nextWord]\r\n",
        "    total_Word_Count = float(sum(nextWords.values()))\r\n",
        "    for previousWord in nextWords:\r\n",
        "      nextWords[previousWord]/=total_Word_Count"
      ],
      "execution_count": 5,
      "outputs": []
    },
    {
      "cell_type": "code",
      "metadata": {
        "id": "1RGuh3A71SVW"
      },
      "source": [
        "def calculateSigleWordProbability(sentenceModel,wordCount):\r\n",
        "  for word in sentenceModel:\r\n",
        "    sentenceModel[word]/=wordCount"
      ],
      "execution_count": 6,
      "outputs": []
    },
    {
      "cell_type": "code",
      "metadata": {
        "id": "oiA6l1Yi1Wnw"
      },
      "source": [
        "def convertToLower(pa):\r\n",
        "  if type(pa)==str:\r\n",
        "    return pa.lower()\r\n",
        "  return pa"
      ],
      "execution_count": 7,
      "outputs": []
    },
    {
      "cell_type": "code",
      "metadata": {
        "id": "Ts-ds1t-1ZPk"
      },
      "source": [
        "sentenceModel4 = defaultdict(lambda: set())\r\n",
        "sentenceModel5 = defaultdict(lambda: set())\r\n",
        "\r\n",
        "def calculateWordCount(sentenceModel1,sentenceModel2,sentenceModel3,sentences):\r\n",
        "  wordCount = 0\r\n",
        "  for sentence in sentences:\r\n",
        "    #print(sentence)\r\n",
        "    for word in sentence:\r\n",
        "      wordCount+=1\r\n",
        "      sentenceModel1[word]+=1\r\n",
        "    for previousWord2,previousWord1,nextWord in trigrams(sentence,pad_right=True,pad_left=True):\r\n",
        "      previousWord1 = convertToLower(previousWord1)\r\n",
        "      previousWord2 = convertToLower(previousWord2)\r\n",
        "      # print(previousWord1)\r\n",
        "      # print(previousWord2)\r\n",
        "      nextWord = convertToLower(nextWord)\r\n",
        "      sentenceModel2[nextWord][previousWord1]+=1\r\n",
        "      sentenceModel3[nextWord][previousWord2]+=1\r\n",
        "      sentenceModel4[previousWord1].add(nextWord)\r\n",
        "      sentenceModel5[previousWord2].add(nextWord)\r\n",
        "\r\n",
        "  return wordCount"
      ],
      "execution_count": 8,
      "outputs": []
    },
    {
      "cell_type": "code",
      "metadata": {
        "id": "TbIpExiB1b-M"
      },
      "source": [
        "sentenceModel1 = defaultdict(lambda:0)\r\n",
        "sentenceModel2 = defaultdict(lambda: defaultdict(lambda:0))\r\n",
        "sentenceModel3 = defaultdict(lambda: defaultdict(lambda:0))"
      ],
      "execution_count": 9,
      "outputs": []
    },
    {
      "cell_type": "code",
      "metadata": {
        "colab": {
          "base_uri": "https://localhost:8080/"
        },
        "id": "l98YSKo61eWU",
        "outputId": "d774aa30-beb9-43f3-ab05-734297195428"
      },
      "source": [
        "wikiWordCount = calculateWordCount(sentenceModel1,sentenceModel2,sentenceModel3,wikiSentences)\r\n",
        "print(wikiWordCount)"
      ],
      "execution_count": 10,
      "outputs": [
        {
          "output_type": "stream",
          "text": [
            "452944\n"
          ],
          "name": "stdout"
        }
      ]
    },
    {
      "cell_type": "code",
      "metadata": {
        "colab": {
          "base_uri": "https://localhost:8080/"
        },
        "id": "ShHU1b0z1hgS",
        "outputId": "b8d72cf7-65fe-4098-ec8f-2bf6e5a4e34b"
      },
      "source": [
        "reutersWordCount = calculateWordCount(sentenceModel1,sentenceModel2,sentenceModel3,reutersSentences)\r\n",
        "print(reutersWordCount)"
      ],
      "execution_count": 11,
      "outputs": [
        {
          "output_type": "stream",
          "text": [
            "1720917\n"
          ],
          "name": "stdout"
        }
      ]
    },
    {
      "cell_type": "code",
      "metadata": {
        "id": "yKbQpolr1kP-"
      },
      "source": [
        "calculateProbabilities(sentenceModel2)"
      ],
      "execution_count": 13,
      "outputs": []
    },
    {
      "cell_type": "code",
      "metadata": {
        "id": "80aXbJxe1rei"
      },
      "source": [
        "calculateProbabilities(sentenceModel3)"
      ],
      "execution_count": 14,
      "outputs": []
    },
    {
      "cell_type": "code",
      "metadata": {
        "id": "eCKHWRbL1uVE"
      },
      "source": [
        "total_word = wikiWordCount + reutersWordCount\r\n",
        "calculateSigleWordProbability(sentenceModel1,total_word)"
      ],
      "execution_count": 15,
      "outputs": []
    },
    {
      "cell_type": "code",
      "metadata": {
        "cellView": "form",
        "id": "ybx3gsGD1xCe"
      },
      "source": [
        "#@title Naive Bayes\n"
      ],
      "execution_count": null,
      "outputs": []
    },
    {
      "cell_type": "code",
      "metadata": {
        "id": "7Rpar3cv13FA"
      },
      "source": [
        "maxProbabilityWords = []\r\n",
        "def makeWordSuggestionByTrigram(previousWord2,previousWord1):\r\n",
        "  for nextWord in sentenceModel4[previousWord1] & sentenceModel5[previousWord2]:\r\n",
        "    naiveBiasTrigramWeight = sentenceModel1[nextWord]*sentenceModel2[nextWord][previousWord1]*sentenceModel3[nextWord][previousWord2]\r\n",
        "    maxProbabilityWords.append((nextWord,naiveBiasTrigramWeight))"
      ],
      "execution_count": 16,
      "outputs": []
    },
    {
      "cell_type": "code",
      "metadata": {
        "colab": {
          "base_uri": "https://localhost:8080/"
        },
        "id": "_17bndpn16ou",
        "outputId": "159b03c8-2832-4038-c05f-813583db3c16"
      },
      "source": [
        "makeWordSuggestionByTrigram('my','name')\r\n",
        "maxProbabilityWords.sort(key=lambda o:o[1],reverse=True)\r\n",
        "print(*maxProbabilityWords[:10])"
      ],
      "execution_count": 17,
      "outputs": [
        {
          "output_type": "stream",
          "text": [
            "('is', 2.6849293640882563e-08) ('to', 1.1753701280369476e-09) (',', 5.594384896959364e-10) ('in', 4.6278217257886463e-10) ('and', 4.5063509855295003e-10) ('for', 3.7387907837491414e-10) ('would', 3.538344188456149e-10) ('will', 2.873504539086109e-10) ('that', 2.0690529880633974e-10) ('or', 1.711572663102721e-10)\n"
          ],
          "name": "stdout"
        }
      ]
    },
    {
      "cell_type": "code",
      "metadata": {
        "colab": {
          "base_uri": "https://localhost:8080/"
        },
        "id": "IGE-kC3p19TU",
        "outputId": "9311d2da-7b08-4e20-cb59-2d0f62e0be3b"
      },
      "source": [
        "while(True):\r\n",
        "    text = input(\"Enter your line: \")\r\n",
        "    if text == \"stop\":\r\n",
        "        print(\"Ending The Program.....\")\r\n",
        "        break\r\n",
        "    \r\n",
        "    else:\r\n",
        "        try:\r\n",
        "            maxProbabilityWords = []\r\n",
        "            text = text.split(\" \")\r\n",
        "            makeWordSuggestionByTrigram(text[0],text[1])\r\n",
        "            maxProbabilityWords.sort(key=lambda o:o[1],reverse=True)\r\n",
        "            print(*maxProbabilityWords[:10])\r\n",
        "            \r\n",
        "        except:\r\n",
        "            continue"
      ],
      "execution_count": 18,
      "outputs": [
        {
          "output_type": "stream",
          "text": [
            "Enter your line: I am\n",
            "\n",
            "Enter your line: you are\n",
            "('not', 1.3601059039706865e-07) ('re', 7.599793212130158e-08) ('going', 6.093710092694297e-08) ('still', 4.9851741930418823e-08) ('trying', 4.696590473574191e-08) ('certainly', 4.6268700091520467e-08) ('normally', 3.930867495990026e-08) ('considered', 2.8569585597962102e-08) ('bound', 2.8163939550835283e-08) ('already', 2.3833544823549687e-08)\n",
            "Enter your line: he is\n",
            "('not', 1.1415344990518883e-05) ('the', 2.8669512353900393e-06) ('no', 2.0306414186860617e-06) ('that', 1.5753769451114705e-06) ('also', 1.1663932699492465e-06) ('a', 1.0837436335618735e-06) ('confident', 9.282990400880168e-07) ('considering', 7.529942171577492e-07) ('an', 7.262667551027575e-07) ('concerned', 5.642801755340686e-07)\n",
            "Enter your line: she is\n",
            "('nonviolent', 4.600110126636432e-07) ('not', 2.8951961932475424e-07) ('concerned', 2.2571207021362745e-07) ('asleep', 1.672767318776884e-07) ('expected', 1.5764486617874928e-07) ('seated', 1.5333700422121439e-07) ('the', 1.386057849170757e-07) ('likely', 1.2190398315509247e-07) ('tall', 1.150027531659108e-07) ('deliberately', 9.68444237186617e-08)\n",
            "Enter your line: your name\n",
            "('indicates', 9.579224347002073e-09) ('is', 7.671226754537875e-09) ('us', 2.83057595438789e-09) ('george', 1.6947774150765779e-09) ('to', 7.052220768221686e-10) ('and', 4.5063509855295003e-10) ('for', 3.7387907837491414e-10) ('would', 3.538344188456149e-10) (',', 2.0978943363597617e-10) ('or', 1.711572663102721e-10)\n",
            "Enter your line: how are\n",
            "('rare', 6.79194193927391e-08) ('used', 2.9707140617566224e-08) ('set', 2.891055372432726e-08) ('the', 2.428365714626491e-08) ('subject', 2.315832732509394e-08) ('interpreted', 1.31431717903898e-08) ('either', 1.1882203279134742e-08) ('you', 1.182583014813197e-08) ('non', 1.1308728847288008e-08) ('better', 1.0946104678122335e-08)\n",
            "Enter your line: things like\n",
            "('the', 2.5815058948281616e-09) ('to', 2.3977550611953733e-09) ('this', 1.1405707137311985e-09) (',\"', 1.083334736917656e-09) ('that', 7.448590757028232e-10) ('their', 7.27505193220017e-10) ('his', 5.724476776443075e-10) ('a', 4.4587211963745663e-10) ('some', 3.681905428766531e-10) ('in', 2.1596501387013684e-10)\n",
            "Enter your line: He loves\n",
            "\n",
            "Enter your line: stop\n",
            "Ending The Program.....\n"
          ],
          "name": "stdout"
        }
      ]
    }
  ]
}